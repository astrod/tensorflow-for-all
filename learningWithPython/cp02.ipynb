{
 "cells": [
  {
   "cell_type": "markdown",
   "metadata": {},
   "source": [
    "# 지도 학습\n",
    "지도 학습에는 두 가지 방법이 있다. 분류와 회귀이다."
   ]
  },
  {
   "cell_type": "markdown",
   "metadata": {},
   "source": [
    "## 분류\n",
    "분류는 미리 정의된, 가능성 있는 여러 클래스 레이블 중 하나를 예측하는 것이다. 예를 들어, 챕터 1에서 실습한 붓꽃 분류 예제를 보면 세 품종의 꽃 중 하나로 분류하게 된다. 분류는 딱 두 개의 클래스로 분류하는 이진 분류와, 셋 이상의 클래스로 분류하는 다중 분류로 나뉜다."
   ]
  },
  {
   "cell_type": "markdown",
   "metadata": {},
   "source": [
    "### 이진 분류\n",
    "이진 분류는 질문의 답이 예/아니오로만 나올 수 있도록 하는 것이다. 이메일에서 스팸을 분류하는 예를 생각해 보면, 이 경우는 예/아니오로만 답을 해야 한다. 질문은 \"이 이메일이 스팸인가요?\"가 될 것이다."
   ]
  },
  {
   "cell_type": "markdown",
   "metadata": {},
   "source": [
    "### 다중 분류\n",
    "1장에서 실습한 붓꽃 분류는 다중 분류 문제이다. 웹 사이트의 글로부터 어떤 언어의 웹사이트인지 예측한다던지 하는 문제는 다중 분류 문제가 될 것이다."
   ]
  },
  {
   "cell_type": "markdown",
   "metadata": {},
   "source": [
    "## 회귀\n",
    "\n",
    "회귀는 연속적인 숫자, 프로그래밍적 용어로는 부동소수점수(실수)를 예측하는 것이다. \n",
    "어떤 사람의 교육 수준, 나이, 주거지를 바탕으로 연간 소득을 예측하는 것이 회귀 문제의 한 예이다. 소득을 예측할 시, 예측된 값은 일정 범위 내의\n",
    "어떤 숫자도 될 수 있다.\n",
    "\n",
    "회귀와 분류를 구분하는 방법은, 출력 값에 연속성이 있는지 확인하는 것이다. 예상 출력 값에 연속성이 있다면 회귀 문제이다."
   ]
  },
  {
   "cell_type": "markdown",
   "metadata": {},
   "source": [
    "## 일반화, 과대적합, 과소적합\n",
    "\n",
    "모델이 처음 보는 데이터에 대해 정확하게 예측할 수 있으면, 이를 훈련 세트에서 테스트 세트로 일반화 되었다고 한다. 따라서 모델을 만들 때는 정확하게 일반화되도록 해야 한다.\n",
    "\n",
    "보통 훈련 세트에 대해 정확히 예측하도록 모델을 구축한다. 훈련 세트와 테스트 세트가 매우 비슷하다면, 그 모델이 테스트 세트에서도 정확히 예측하리라 기대할 수 있다. 그러나, 항상 그런 것은 아니다. 아주 복잡한 모델을 만든다면, 훈련 세트에만 정확한 모델이 되어버릴 수 있다.\n",
    "\n",
    "우리가 만든 모델이 간단하면 간단할수록, 과대적합 될 가능성이 낮아진다. 과대적합은 모델이 각 훈련 샘플에 너무 가깝게 맞춰져서, 새로운 데이터에 일반화되기 어려울 때 발생한다. 반대로 모델이 너무 간단하다면, 데이터의 면면과 다양성을 잡아내지 못할 것이고 훈련 세트에 잘 맞지 않을 것이다.\n",
    "\n",
    "너무 간단한 모델이 선택되는 것을 과소적합이라고 한다.\n",
    "\n",
    "즉, 모델을 복잡하게 할수록 훈련 데이터에 대해서는 더 정확히 예측할 수 있다. 그러나, 너무 복잡해지면 훈련 세트의 각 데이터 포인트에 너무 민감해져서 새로운 데이터에 잘 일반화되지 못하게 된다.\n"
   ]
  },
  {
   "cell_type": "markdown",
   "metadata": {},
   "source": [
    "## 지도 학습 알고리즘\n",
    "이제부터 머신러닝 알고리즘들을 보면서, 데이터로부터 어떻게 학습하고 예측할지 설명할 것이다. 모델의 복잡도가 어떤 역할을 하고, 각 알고리즘이 모델을 어떻게 만드는지 소개할 예정이다."
   ]
  },
  {
   "cell_type": "code",
   "execution_count": 13,
   "metadata": {},
   "outputs": [
    {
     "name": "stdout",
     "output_type": "stream",
     "text": [
      "cancer.keys() : \n",
      "{} dict_keys(['target', 'target_names', 'DESCR', 'data', 'feature_names'])\n",
      "data shape : (569, 30)\n"
     ]
    }
   ],
   "source": [
    "from sklearn.datasets import load_breast_cancer\n",
    "cancer = load_breast_cancer()\n",
    "print(\"cancer.keys() : \\n{}\",format(cancer.keys()))\n",
    "print(\"data shape : {}\".format(cancer.data.shape))"
   ]
  },
  {
   "cell_type": "code",
   "execution_count": 17,
   "metadata": {},
   "outputs": [
    {
     "name": "stdout",
     "output_type": "stream",
     "text": [
      "data shape : (506, 13)\n"
     ]
    }
   ],
   "source": [
    "from sklearn.datasets import load_boston\n",
    "boston = load_boston()\n",
    "print(\"data shape : {}\".format(boston.data.shape))"
   ]
  }
 ],
 "metadata": {
  "kernelspec": {
   "display_name": "Python 3",
   "language": "python",
   "name": "python3"
  },
  "language_info": {
   "codemirror_mode": {
    "name": "ipython",
    "version": 3
   },
   "file_extension": ".py",
   "mimetype": "text/x-python",
   "name": "python",
   "nbconvert_exporter": "python",
   "pygments_lexer": "ipython3",
   "version": "3.5.3"
  }
 },
 "nbformat": 4,
 "nbformat_minor": 2
}
